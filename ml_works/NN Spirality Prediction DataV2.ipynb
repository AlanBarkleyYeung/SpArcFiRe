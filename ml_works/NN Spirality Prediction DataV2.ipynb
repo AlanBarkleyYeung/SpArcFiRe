{
 "cells": [
  {
   "cell_type": "code",
   "execution_count": 14,
   "metadata": {
    "collapsed": true
   },
   "outputs": [],
   "source": [
    "using HDF5, JLD, DataFrames, Distributions, MLBase, StatsBase, PlotlyJS, Mocha\n",
    "include(\"MyFunctions.jl\");"
   ]
  },
  {
   "cell_type": "code",
   "execution_count": 3,
   "metadata": {
    "collapsed": false
   },
   "outputs": [],
   "source": [
    "BLAS.set_num_threads(16)"
   ]
  },
  {
   "cell_type": "code",
   "execution_count": 4,
   "metadata": {
    "collapsed": true
   },
   "outputs": [],
   "source": [
    "fullDataSTD = load(\"dataV2.jld\")[\"dataFilteredSTD\"];\n",
    "bigY = load(\"dataV2.jld\")[\"bigY\"];\n",
    "Ysum = Array{Float64}(nrow(bigY),1);\n",
    "Ysum = convert(Array{Float64}, bigY[:P_CW_P_ACW]);"
   ]
  },
  {
   "cell_type": "code",
   "execution_count": 48,
   "metadata": {
    "collapsed": false
   },
   "outputs": [
    {
     "name": "stdout",
     "output_type": "stream",
     "text": [
      "17-Nov 18:30:11:INFO:root:Constructing net Spirality-Train on Mocha.CPUBackend...\n",
      "17-Nov 18:30:11:INFO:root:Topological sorting 5 layers...\n",
      "17-Nov 18:30:11:INFO:root:Setup layers...\n",
      "17-Nov 18:30:11:INFO:root:Network constructed!\n"
     ]
    },
    {
     "data": {
      "text/plain": [
       "************************************************************\n",
       "          NAME: Spirality-Train\n",
       "       BACKEND: Mocha.CPUBackend\n",
       "  ARCHITECTURE: 5 layers\n",
       "............................................................\n",
       " *** Mocha.MemoryDataLayer(memory-data)\n",
       "    Outputs ---------------------------\n",
       "          data: Blob(181 x 1000)\n",
       "         label: Blob(1 x 1000)\n",
       "............................................................\n",
       " *** Mocha.InnerProductLayer(hid1)\n",
       "    Inputs ----------------------------\n",
       "          data: Blob(181 x 1000)\n",
       "    Outputs ---------------------------\n",
       "          hid1: Blob(500 x 1000)\n",
       "............................................................\n",
       " *** Mocha.InnerProductLayer(hid2)\n",
       "    Inputs ----------------------------\n",
       "          hid1: Blob(500 x 1000)\n",
       "    Outputs ---------------------------\n",
       "          hid2: Blob(500 x 1000)\n",
       "............................................................\n",
       " *** Mocha.InnerProductLayer(hid4)\n",
       "    Inputs ----------------------------\n",
       "          hid2: Blob(500 x 1000)\n",
       "    Outputs ---------------------------\n",
       "          hid4: Blob(1 x 1000)\n",
       "............................................................\n",
       " *** Mocha.SquareLossLayer(loss)\n",
       "    Inputs ----------------------------\n",
       "          hid4: Blob(1 x 1000)\n",
       "         label: Blob(1 x 1000)\n",
       "************************************************************\n"
      ]
     },
     "execution_count": 48,
     "metadata": {},
     "output_type": "execute_result"
    }
   ],
   "source": [
    "#data_layer  = HDF5DataLayer(name=\"train-data\", source=\"mnist/train.txt\",\n",
    "#    batch_size=64, shuffle=true)\n",
    "#MemoryDataLayer(tops=[:data, :label], batch_size=1000, data=Array[fullDataSTD[bernou,:], Ysum[bernou]])\n",
    "#data_tt_layer = AsyncHDF5DataLayer(name=\"data-test\", source=\"gDataHDF5/test.txt\", batch_size=100)\n",
    "\n",
    "# prepare Mocha network with similar architecture, but with additional layers\n",
    "# for data and softmax classification\n",
    "# names of layers should be the same as in DBN\n",
    "bernou = rand(Bernoulli(0.9), size(Ysum)) .== 1;\n",
    "batch_sz = 1000\n",
    "data = MemoryDataLayer(tops=[:data, :label], batch_size=batch_sz, data=Array[fullDataSTD[bernou,:]', Ysum[bernou,:]'])\n",
    "hid1 = InnerProductLayer(name=\"hid1\", output_dim=500, tops=[:hid1], bottoms=[:data], neuron=Neurons.Sigmoid())\n",
    "hid2 = InnerProductLayer(name=\"hid2\", output_dim=500, tops=[:hid2], bottoms=[:hid1], neuron=Neurons.Sigmoid())\n",
    "hid4 = InnerProductLayer(name=\"hid4\", output_dim=1, tops=[:hid4], bottoms=[:hid2], neuron=Neurons.Sigmoid())\n",
    "loss = SquareLossLayer(name=\"loss\", bottoms=[:hid4, :label])\n",
    "\n",
    "backend = DefaultBackend()\n",
    "init(backend)\n",
    "\n",
    "net = Net(\"Spirality-Train\", backend, [data, hid1, hid2, hid4, loss])"
   ]
  },
  {
   "cell_type": "code",
   "execution_count": 49,
   "metadata": {
    "collapsed": false
   },
   "outputs": [
    {
     "data": {
      "text/plain": [
       "Mocha.Solver{Mocha.Adam}(Mocha.Adam(),Dict{Symbol,Any}(Pair{Symbol,Any}(:regu_coef,0.0005),Pair{Symbol,Any}(:load_from,\"SPNNsnapshots100_50_25_DV2\"),Pair{Symbol,Any}(:beta1,0.9),Pair{Symbol,Any}(:lr_policy,Mocha.LRPolicy.Inv(0.01,0.0001,0.75)),Pair{Symbol,Any}(:beta2,0.999),Pair{Symbol,Any}(:max_iter,10000),Pair{Symbol,Any}(:epsilon,1.0e-8)),Mocha.CoffeeLounge(\"\",1,:merge,Dict{AbstractString,Dict{Int64,AbstractFloat}}(),Mocha.CoffeeBreak[],true,8751724873810518572,8247343408463635824))"
      ]
     },
     "execution_count": 49,
     "metadata": {},
     "output_type": "execute_result"
    }
   ],
   "source": [
    "exp_dir = \"SPNNsnapshots100_50_25_DV2\"\n",
    "method = Adam()\n",
    "params = make_solver_parameters(method, max_iter=10000, regu_coef=0.0005,\n",
    "    #mom_policy=MomPolicy.Fixed(0.99),\n",
    "    lr_policy=LRPolicy.Inv(0.01, 0.0001, 0.75),\n",
    "    load_from=exp_dir)\n",
    "solver = Solver(method, params)"
   ]
  },
  {
   "cell_type": "code",
   "execution_count": 50,
   "metadata": {
    "collapsed": false
   },
   "outputs": [
    {
     "data": {
      "text/plain": [
       "2-element Array{Mocha.CoffeeBreak,1}:\n",
       " Mocha.CoffeeBreak(Mocha.TrainingSummary(Any[:iter,:obj_val]),100,0)   \n",
       " Mocha.CoffeeBreak(Mocha.Snapshot(\"SPNNsnapshots100_50_25_DV2\"),5000,0)"
      ]
     },
     "execution_count": 50,
     "metadata": {},
     "output_type": "execute_result"
    }
   ],
   "source": [
    "setup_coffee_lounge(solver, save_into=\"$exp_dir/statistics.jld\", every_n_iter=1000)\n",
    "\n",
    "# report training progress every 100 iterations\n",
    "add_coffee_break(solver, TrainingSummary(), every_n_iter=100)\n",
    "\n",
    "# save snapshots every 5000 iterations\n",
    "add_coffee_break(solver, Snapshot(exp_dir), every_n_iter=5000)\n"
   ]
  },
  {
   "cell_type": "code",
   "execution_count": 51,
   "metadata": {
    "collapsed": false
   },
   "outputs": [
    {
     "name": "stdout",
     "output_type": "stream",
     "text": [
      "17-Nov 18:30:12:INFO:root:Constructing net Spirality-Test on Mocha.CPUBackend...\n",
      "17-Nov 18:30:12:INFO:root:Topological sorting 5 layers...\n",
      "17-Nov 18:30:12:INFO:root:Setup layers...\n",
      "17-Nov 18:30:12:DEBUG:root:InnerProductLayer(hid1): sharing weights and bias\n",
      "17-Nov 18:30:12:DEBUG:root:InnerProductLayer(hid2): sharing weights and bias\n",
      "17-Nov 18:30:12:DEBUG:root:InnerProductLayer(hid4): sharing weights and bias\n",
      "17-Nov 18:30:12:INFO:root:Network constructed!\n"
     ]
    }
   ],
   "source": [
    "# show performance on test data every 1000 iterations\n",
    "data_layer_test = MemoryDataLayer(tops=[:data, :label], batch_size=batch_sz, data=Array[fullDataSTD[!bernou,:]', Ysum[!bernou,:]'])\n",
    "test_net = Net(\"Spirality-Test\", backend,  [data_layer_test, hid1, hid2, hid4, loss])\n",
    "add_coffee_break(solver, ValidationPerformance(test_net), every_n_iter=1000);"
   ]
  },
  {
   "cell_type": "code",
   "execution_count": 52,
   "metadata": {
    "collapsed": false
   },
   "outputs": [
    {
     "name": "stdout",
     "output_type": "stream",
     "text": [
      "17-Nov 18:30:12:DEBUG:root:#DEBUG Checking network topology for back-propagation\n",
      "17-Nov 18:30:12:DEBUG:root:Init network Spirality-Train\n",
      "17-Nov 18:30:12:DEBUG:root:Init parameter weight for layer hid1\n",
      "17-Nov 18:30:12:DEBUG:root:Init parameter bias for layer hid1\n",
      "17-Nov 18:30:12:DEBUG:root:Init parameter weight for layer hid2\n",
      "17-Nov 18:30:12:DEBUG:root:Init parameter bias for layer hid2\n",
      "17-Nov 18:30:12:DEBUG:root:Init parameter weight for layer hid4\n",
      "17-Nov 18:30:12:DEBUG:root:Init parameter bias for layer hid4\n",
      "17-Nov 18:30:12:DEBUG:root:#DEBUG Initializing coffee breaks\n",
      "17-Nov 18:30:12:INFO:root:Snapshot directory SPNNsnapshots100_50_25_DV2 already exists\n",
      "17-Nov 18:30:12:DEBUG:root:Init network Spirality-Test\n",
      "17-Nov 18:30:12:INFO:root: TRAIN iter=000000 obj_val=0.03462924\n",
      "17-Nov 18:30:12:INFO:root:Saving snapshot to snapshot-000000.jld...\n",
      "17-Nov 18:30:12:DEBUG:root:Saving parameters for layer hid1\n",
      "17-Nov 18:30:12:DEBUG:root:Saving parameters for layer hid2\n",
      "17-Nov 18:30:12:DEBUG:root:Saving parameters for layer hid4\n",
      "17-Nov 18:30:14:INFO:root:\n",
      "17-Nov 18:30:14:INFO:root:## Performance on Validation Set after 0 iterations\n",
      "17-Nov 18:30:14:INFO:root:---------------------------------------------------------\n",
      "17-Nov 18:30:14:INFO:root:  Square-loss (avg over 69000) = 0.0337\n",
      "17-Nov 18:30:14:INFO:root:---------------------------------------------------------\n",
      "17-Nov 18:30:14:INFO:root:\n",
      "17-Nov 18:30:14:DEBUG:root:#DEBUG Entering solver loop\n",
      "17-Nov 18:30:20:INFO:root: TRAIN iter=000100 obj_val=0.04217279\n",
      "17-Nov 18:30:26:INFO:root: TRAIN iter=000200 obj_val=0.03637608\n",
      "17-Nov 18:30:32:INFO:root: TRAIN iter=000300 obj_val=0.03529360\n",
      "17-Nov 18:30:38:INFO:root: TRAIN iter=000400 obj_val=0.03790273\n",
      "17-Nov 18:30:45:INFO:root: TRAIN iter=000500 obj_val=0.03660980\n",
      "17-Nov 18:30:51:INFO:root: TRAIN iter=000600 obj_val=0.03657003\n",
      "17-Nov 18:30:57:INFO:root: TRAIN iter=000700 obj_val=0.03525094\n",
      "17-Nov 18:31:04:INFO:root: TRAIN iter=000800 obj_val=0.03349676\n",
      "17-Nov 18:31:11:INFO:root: TRAIN iter=000900 obj_val=0.03638569\n",
      "17-Nov 18:31:17:INFO:root: TRAIN iter=001000 obj_val=0.03532767\n",
      "17-Nov 18:31:20:INFO:root:\n",
      "17-Nov 18:31:20:INFO:root:## Performance on Validation Set after 1000 iterations\n",
      "17-Nov 18:31:20:INFO:root:---------------------------------------------------------\n",
      "17-Nov 18:31:20:INFO:root:  Square-loss (avg over 69000) = 0.0361\n",
      "17-Nov 18:31:20:INFO:root:---------------------------------------------------------\n",
      "17-Nov 18:31:20:INFO:root:\n",
      "17-Nov 18:31:26:INFO:root: TRAIN iter=001100 obj_val=0.04127400\n",
      "17-Nov 18:31:33:INFO:root: TRAIN iter=001200 obj_val=0.01589496\n",
      "17-Nov 18:31:39:INFO:root: TRAIN iter=001300 obj_val=0.01442030\n",
      "17-Nov 18:31:46:INFO:root: TRAIN iter=001400 obj_val=0.03570527\n",
      "17-Nov 18:31:53:INFO:root: TRAIN iter=001500 obj_val=0.01827137\n",
      "17-Nov 18:32:00:INFO:root: TRAIN iter=001600 obj_val=0.01259896\n",
      "17-Nov 18:32:06:INFO:root: TRAIN iter=001700 obj_val=0.01288269\n",
      "17-Nov 18:32:13:INFO:root: TRAIN iter=001800 obj_val=0.01218028\n",
      "17-Nov 18:32:20:INFO:root: TRAIN iter=001900 obj_val=0.01220353\n",
      "17-Nov 18:32:26:INFO:root: TRAIN iter=002000 obj_val=0.01206206\n",
      "17-Nov 18:32:29:INFO:root:\n",
      "17-Nov 18:32:29:INFO:root:## Performance on Validation Set after 2000 iterations\n",
      "17-Nov 18:32:29:INFO:root:---------------------------------------------------------\n",
      "17-Nov 18:32:29:INFO:root:  Square-loss (avg over 68000) = 0.0137\n",
      "17-Nov 18:32:29:INFO:root:---------------------------------------------------------\n",
      "17-Nov 18:32:29:INFO:root:\n",
      "17-Nov 18:32:36:INFO:root: TRAIN iter=002100 obj_val=0.01384710\n",
      "17-Nov 18:32:43:INFO:root: TRAIN iter=002200 obj_val=0.01208851\n",
      "17-Nov 18:32:49:INFO:root: TRAIN iter=002300 obj_val=0.01014623\n",
      "17-Nov 18:32:56:INFO:root: TRAIN iter=002400 obj_val=0.01244589\n",
      "17-Nov 18:33:03:INFO:root: TRAIN iter=002500 obj_val=0.01224569\n",
      "17-Nov 18:33:10:INFO:root: TRAIN iter=002600 obj_val=0.01357117\n",
      "17-Nov 18:33:17:INFO:root: TRAIN iter=002700 obj_val=0.01163228\n",
      "17-Nov 18:33:24:INFO:root: TRAIN iter=002800 obj_val=0.01167143\n",
      "17-Nov 18:33:31:INFO:root: TRAIN iter=002900 obj_val=0.01286682\n",
      "17-Nov 18:33:38:INFO:root: TRAIN iter=003000 obj_val=0.01262766\n",
      "17-Nov 18:33:40:INFO:root:\n",
      "17-Nov 18:33:40:INFO:root:## Performance on Validation Set after 3000 iterations\n",
      "17-Nov 18:33:40:INFO:root:---------------------------------------------------------\n",
      "17-Nov 18:33:40:INFO:root:  Square-loss (avg over 69000) = 0.0131\n",
      "17-Nov 18:33:40:INFO:root:---------------------------------------------------------\n",
      "17-Nov 18:33:40:INFO:root:\n",
      "17-Nov 18:33:47:INFO:root: TRAIN iter=003100 obj_val=0.01208909\n",
      "17-Nov 18:33:54:INFO:root: TRAIN iter=003200 obj_val=0.01410816\n",
      "17-Nov 18:34:01:INFO:root: TRAIN iter=003300 obj_val=0.01701429\n",
      "17-Nov 18:34:08:INFO:root: TRAIN iter=003400 obj_val=0.01316728\n",
      "17-Nov 18:34:15:INFO:root: TRAIN iter=003500 obj_val=0.01050541\n",
      "17-Nov 18:34:22:INFO:root: TRAIN iter=003600 obj_val=0.01191151\n",
      "17-Nov 18:34:29:INFO:root: TRAIN iter=003700 obj_val=0.01461918\n",
      "17-Nov 18:34:36:INFO:root: TRAIN iter=003800 obj_val=0.01345186\n",
      "17-Nov 18:34:42:INFO:root: TRAIN iter=003900 obj_val=0.01287802\n",
      "17-Nov 18:34:49:INFO:root: TRAIN iter=004000 obj_val=0.01132685\n",
      "17-Nov 18:34:52:INFO:root:\n",
      "17-Nov 18:34:52:INFO:root:## Performance on Validation Set after 4000 iterations\n",
      "17-Nov 18:34:52:INFO:root:---------------------------------------------------------\n",
      "17-Nov 18:34:52:INFO:root:  Square-loss (avg over 69000) = 0.0124\n",
      "17-Nov 18:34:52:INFO:root:---------------------------------------------------------\n",
      "17-Nov 18:34:52:INFO:root:\n",
      "17-Nov 18:34:59:INFO:root: TRAIN iter=004100 obj_val=0.01458592\n",
      "17-Nov 18:35:06:INFO:root: TRAIN iter=004200 obj_val=0.01389254\n",
      "17-Nov 18:35:13:INFO:root: TRAIN iter=004300 obj_val=0.01217005\n",
      "17-Nov 18:35:19:INFO:root: TRAIN iter=004400 obj_val=0.01285509\n",
      "17-Nov 18:35:26:INFO:root: TRAIN iter=004500 obj_val=0.01383946\n",
      "17-Nov 18:35:33:INFO:root: TRAIN iter=004600 obj_val=0.01178420\n",
      "17-Nov 18:35:40:INFO:root: TRAIN iter=004700 obj_val=0.01419805\n",
      "17-Nov 18:35:47:INFO:root: TRAIN iter=004800 obj_val=0.01188758\n",
      "17-Nov 18:35:53:INFO:root: TRAIN iter=004900 obj_val=0.01272427\n",
      "17-Nov 18:36:00:INFO:root: TRAIN iter=005000 obj_val=0.01267908\n",
      "17-Nov 18:36:00:INFO:root:Saving snapshot to snapshot-005000.jld...\n",
      "17-Nov 18:36:00:DEBUG:root:Saving parameters for layer hid1\n",
      "17-Nov 18:36:00:DEBUG:root:Saving parameters for layer hid2\n",
      "17-Nov 18:36:00:DEBUG:root:Saving parameters for layer hid4\n",
      "17-Nov 18:36:03:INFO:root:\n",
      "17-Nov 18:36:03:INFO:root:## Performance on Validation Set after 5000 iterations\n",
      "17-Nov 18:36:03:INFO:root:---------------------------------------------------------\n",
      "17-Nov 18:36:03:INFO:root:  Square-loss (avg over 68000) = 0.0123\n",
      "17-Nov 18:36:03:INFO:root:---------------------------------------------------------\n",
      "17-Nov 18:36:03:INFO:root:\n",
      "17-Nov 18:36:10:INFO:root: TRAIN iter=005100 obj_val=0.01336905\n",
      "17-Nov 18:36:17:INFO:root: TRAIN iter=005200 obj_val=0.01471534\n",
      "17-Nov 18:36:24:INFO:root: TRAIN iter=005300 obj_val=0.01273212\n",
      "17-Nov 18:36:31:INFO:root: TRAIN iter=005400 obj_val=0.01430145\n",
      "17-Nov 18:36:38:INFO:root: TRAIN iter=005500 obj_val=0.01150527\n",
      "17-Nov 18:36:45:INFO:root: TRAIN iter=005600 obj_val=0.01248348\n",
      "17-Nov 18:36:51:INFO:root: TRAIN iter=005700 obj_val=0.01291194\n",
      "17-Nov 18:36:58:INFO:root: TRAIN iter=005800 obj_val=0.01356341\n",
      "17-Nov 18:37:05:INFO:root: TRAIN iter=005900 obj_val=0.01216840\n",
      "17-Nov 18:37:12:INFO:root: TRAIN iter=006000 obj_val=0.01297480\n",
      "17-Nov 18:37:14:INFO:root:\n",
      "17-Nov 18:37:14:INFO:root:## Performance on Validation Set after 6000 iterations\n",
      "17-Nov 18:37:14:INFO:root:---------------------------------------------------------\n",
      "17-Nov 18:37:14:INFO:root:  Square-loss (avg over 69000) = 0.0125\n",
      "17-Nov 18:37:14:INFO:root:---------------------------------------------------------\n",
      "17-Nov 18:37:14:INFO:root:\n",
      "17-Nov 18:37:21:INFO:root: TRAIN iter=006100 obj_val=0.01437127\n",
      "17-Nov 18:37:28:INFO:root: TRAIN iter=006200 obj_val=0.01315196\n",
      "17-Nov 18:37:35:INFO:root: TRAIN iter=006300 obj_val=0.01151325\n",
      "17-Nov 18:37:42:INFO:root: TRAIN iter=006400 obj_val=0.01133382\n",
      "17-Nov 18:37:49:INFO:root: TRAIN iter=006500 obj_val=0.01192882\n",
      "17-Nov 18:37:56:INFO:root: TRAIN iter=006600 obj_val=0.01170137\n",
      "17-Nov 18:38:02:INFO:root: TRAIN iter=006700 obj_val=0.01372195\n",
      "17-Nov 18:38:09:INFO:root: TRAIN iter=006800 obj_val=0.01260317\n",
      "17-Nov 18:38:16:INFO:root: TRAIN iter=006900 obj_val=0.01210086\n",
      "17-Nov 18:38:23:INFO:root: TRAIN iter=007000 obj_val=0.01308892\n",
      "17-Nov 18:38:25:INFO:root:\n",
      "17-Nov 18:38:25:INFO:root:## Performance on Validation Set after 7000 iterations\n",
      "17-Nov 18:38:25:INFO:root:---------------------------------------------------------\n",
      "17-Nov 18:38:25:INFO:root:  Square-loss (avg over 69000) = 0.0123\n",
      "17-Nov 18:38:25:INFO:root:---------------------------------------------------------\n",
      "17-Nov 18:38:25:INFO:root:\n",
      "17-Nov 18:38:32:INFO:root: TRAIN iter=007100 obj_val=0.01437733\n",
      "17-Nov 18:38:39:INFO:root: TRAIN iter=007200 obj_val=0.01243411\n",
      "17-Nov 18:38:46:INFO:root: TRAIN iter=007300 obj_val=0.01274502\n",
      "17-Nov 18:38:53:INFO:root: TRAIN iter=007400 obj_val=0.01335284\n",
      "17-Nov 18:39:00:INFO:root: TRAIN iter=007500 obj_val=0.01207014\n",
      "17-Nov 18:39:07:INFO:root: TRAIN iter=007600 obj_val=0.01132327\n",
      "17-Nov 18:39:13:INFO:root: TRAIN iter=007700 obj_val=0.01159452\n",
      "17-Nov 18:39:20:INFO:root: TRAIN iter=007800 obj_val=0.01199006\n",
      "17-Nov 18:39:27:INFO:root: TRAIN iter=007900 obj_val=0.01204972\n",
      "17-Nov 18:39:33:INFO:root: TRAIN iter=008000 obj_val=0.01253576\n",
      "17-Nov 18:39:36:INFO:root:\n",
      "17-Nov 18:39:36:INFO:root:## Performance on Validation Set after 8000 iterations\n",
      "17-Nov 18:39:36:INFO:root:---------------------------------------------------------\n",
      "17-Nov 18:39:36:INFO:root:  Square-loss (avg over 68000) = 0.0126\n",
      "17-Nov 18:39:36:INFO:root:---------------------------------------------------------\n",
      "17-Nov 18:39:36:INFO:root:\n",
      "17-Nov 18:39:43:INFO:root: TRAIN iter=008100 obj_val=0.01326166\n",
      "17-Nov 18:39:50:INFO:root: TRAIN iter=008200 obj_val=0.01192929\n",
      "17-Nov 18:39:57:INFO:root: TRAIN iter=008300 obj_val=0.01406013\n",
      "17-Nov 18:40:03:INFO:root: TRAIN iter=008400 obj_val=0.01234321\n",
      "17-Nov 18:40:10:INFO:root: TRAIN iter=008500 obj_val=0.01058690\n",
      "17-Nov 18:40:17:INFO:root: TRAIN iter=008600 obj_val=0.01004745\n",
      "17-Nov 18:40:24:INFO:root: TRAIN iter=008700 obj_val=0.01295468\n",
      "17-Nov 18:40:31:INFO:root: TRAIN iter=008800 obj_val=0.01151745\n",
      "17-Nov 18:40:37:INFO:root: TRAIN iter=008900 obj_val=0.01192693\n",
      "17-Nov 18:40:44:INFO:root: TRAIN iter=009000 obj_val=0.01145195\n",
      "17-Nov 18:40:47:INFO:root:\n",
      "17-Nov 18:40:47:INFO:root:## Performance on Validation Set after 9000 iterations\n",
      "17-Nov 18:40:47:INFO:root:---------------------------------------------------------\n",
      "17-Nov 18:40:47:INFO:root:  Square-loss (avg over 69000) = 0.0124\n",
      "17-Nov 18:40:47:INFO:root:---------------------------------------------------------\n",
      "17-Nov 18:40:47:INFO:root:\n",
      "17-Nov 18:40:54:INFO:root: TRAIN iter=009100 obj_val=0.01039312\n",
      "17-Nov 18:41:00:INFO:root: TRAIN iter=009200 obj_val=0.01268868\n",
      "17-Nov 18:41:07:INFO:root: TRAIN iter=009300 obj_val=0.01134246\n",
      "17-Nov 18:41:14:INFO:root: TRAIN iter=009400 obj_val=0.01160313\n",
      "17-Nov 18:41:21:INFO:root: TRAIN iter=009500 obj_val=0.01384787\n",
      "17-Nov 18:41:28:INFO:root: TRAIN iter=009600 obj_val=0.01188322\n",
      "17-Nov 18:41:35:INFO:root: TRAIN iter=009700 obj_val=0.01375137\n",
      "17-Nov 18:41:41:INFO:root: TRAIN iter=009800 obj_val=0.01104362\n",
      "17-Nov 18:41:48:INFO:root: TRAIN iter=009900 obj_val=0.01073534\n",
      "17-Nov 18:41:55:INFO:root: TRAIN iter=010000 obj_val=0.01272145\n",
      "17-Nov 18:41:55:INFO:root:Saving snapshot to snapshot-010000.jld...\n",
      "17-Nov 18:41:55:DEBUG:root:Saving parameters for layer hid1\n",
      "17-Nov 18:41:55:DEBUG:root:Saving parameters for layer hid2\n",
      "17-Nov 18:41:55:DEBUG:root:Saving parameters for layer hid4\n",
      "17-Nov 18:41:58:INFO:root:\n",
      "17-Nov 18:41:58:INFO:root:## Performance on Validation Set after 10000 iterations\n",
      "17-Nov 18:41:58:INFO:root:---------------------------------------------------------\n",
      "17-Nov 18:41:58:INFO:root:  Square-loss (avg over 68000) = 0.0124\n",
      "17-Nov 18:41:58:INFO:root:---------------------------------------------------------\n",
      "17-Nov 18:41:58:INFO:root:\n",
      "706.031108 seconds (6.11 M allocations: 116.822 GB, 1.96% gc time)\n"
     ]
    },
    {
     "data": {
      "text/plain": [
       "3-element Array{Array{Void,1},1}:\n",
       " Void[nothing,nothing]\n",
       " Void[nothing,nothing]\n",
       " Void[nothing,nothing]"
      ]
     },
     "execution_count": 52,
     "metadata": {},
     "output_type": "execute_result"
    }
   ],
   "source": [
    "@time solve(solver, net)"
   ]
  },
  {
   "cell_type": "code",
   "execution_count": 53,
   "metadata": {
    "collapsed": false
   },
   "outputs": [
    {
     "name": "stdout",
     "output_type": "stream",
     "text": [
      "17-Nov 18:41:58:INFO:root:Constructing net Spirality-Test on Mocha.CPUBackend...\n",
      "17-Nov 18:41:58:INFO:root:Topological sorting 5 layers...\n",
      "17-Nov 18:41:58:INFO:root:Setup layers...\n",
      "17-Nov 18:41:58:DEBUG:root:InnerProductLayer(hid1): sharing weights and bias\n",
      "17-Nov 18:41:58:DEBUG:root:InnerProductLayer(hid2): sharing weights and bias\n",
      "17-Nov 18:41:58:DEBUG:root:InnerProductLayer(hid4): sharing weights and bias\n",
      "17-Nov 18:41:58:INFO:root:Network constructed!\n"
     ]
    },
    {
     "data": {
      "text/plain": [
       "************************************************************\n",
       "          NAME: Spirality-Test\n",
       "       BACKEND: Mocha.CPUBackend\n",
       "  ARCHITECTURE: 5 layers\n",
       "............................................................\n",
       " *** Mocha.MemoryDataLayer(memory-data)\n",
       "    Outputs ---------------------------\n",
       "          data: Blob(181 x 1000)\n",
       "         label: Blob(1 x 1000)\n",
       "............................................................\n",
       " *** Mocha.InnerProductLayer(hid1)\n",
       "    Inputs ----------------------------\n",
       "          data: Blob(181 x 1000)\n",
       "    Outputs ---------------------------\n",
       "          hid1: Blob(500 x 1000)\n",
       "............................................................\n",
       " *** Mocha.InnerProductLayer(hid2)\n",
       "    Inputs ----------------------------\n",
       "          hid1: Blob(500 x 1000)\n",
       "    Outputs ---------------------------\n",
       "          hid2: Blob(500 x 1000)\n",
       "............................................................\n",
       " *** Mocha.InnerProductLayer(hid4)\n",
       "    Inputs ----------------------------\n",
       "          hid2: Blob(500 x 1000)\n",
       "    Outputs ---------------------------\n",
       "          hid4: Blob(1 x 1000)\n",
       "............................................................\n",
       " *** Mocha.MemoryOutputLayer(memory-output)\n",
       "    Inputs ----------------------------\n",
       "          hid4: Blob(1 x 1000)\n",
       "************************************************************\n"
      ]
     },
     "execution_count": 53,
     "metadata": {},
     "output_type": "execute_result"
    }
   ],
   "source": [
    "results = MemoryOutputLayer(bottoms=[:hid4])\n",
    "test_net_results = Net(\"Spirality-Test\", backend, [data_layer_test, hid1, hid2, hid4, results])"
   ]
  },
  {
   "cell_type": "code",
   "execution_count": 54,
   "metadata": {
    "collapsed": true
   },
   "outputs": [],
   "source": [
    "forward_epoch(test_net_results)"
   ]
  },
  {
   "cell_type": "code",
   "execution_count": 55,
   "metadata": {
    "collapsed": true
   },
   "outputs": [],
   "source": [
    "predictions = Float64[]\n",
    "for i in 1:cld(length(Ysum[!bernou,:]),batch_sz)\n",
    "    if i == cld(length(Ysum[!bernou,:]),batch_sz)\n",
    "        last = length(Ysum[!bernou,:]) - fld(length(Ysum[!bernou,:]),batch_sz)*batch_sz\n",
    "        predictions = vcat(predictions, (test_net_results.states[end].outputs[1][i]')[1:last])\n",
    "    else\n",
    "        predictions = vcat(predictions, test_net_results.states[end].outputs[1][i]')\n",
    "    end\n",
    "end"
   ]
  },
  {
   "cell_type": "code",
   "execution_count": 56,
   "metadata": {
    "collapsed": false
   },
   "outputs": [
    {
     "name": "stdout",
     "output_type": "stream",
     "text": [
      "RMSE: 0.15760253226941115\n",
      "Pearson Correlation: 0.7291777474097891\n"
     ]
    }
   ],
   "source": [
    "println(\"RMSE: $(root_mean_squared_error(Ysum[!bernou,:],predictions))\")\n",
    "println(\"Pearson Correlation: $(cor(Ysum[!bernou,:],predictions)[1])\")"
   ]
  },
  {
   "cell_type": "code",
   "execution_count": 38,
   "metadata": {
    "collapsed": false
   },
   "outputs": [
    {
     "name": "stdout",
     "output_type": "stream",
     "text": [
      "17-Nov 02:27:40:DEBUG:root:Destroying network Spirality-Train\n",
      "17-Nov 02:27:40:DEBUG:root:Destroying network Spirality-Test\n",
      "17-Nov 02:27:40:DEBUG:root:Destroying network Spirality-Test\n"
     ]
    },
    {
     "data": {
      "text/plain": [
       "Dict{AbstractString,Array{Mocha.AbstractParameter,1}} with 0 entries"
      ]
     },
     "execution_count": 38,
     "metadata": {},
     "output_type": "execute_result"
    }
   ],
   "source": [
    "destroy(net)\n",
    "destroy(test_net)\n",
    "destroy(test_net_results)\n",
    "shutdown(backend)"
   ]
  },
  {
   "cell_type": "code",
   "execution_count": null,
   "metadata": {
    "collapsed": true
   },
   "outputs": [],
   "source": []
  }
 ],
 "metadata": {
  "kernelspec": {
   "display_name": "Julia 0.5.0",
   "language": "julia",
   "name": "julia-0.5"
  },
  "language_info": {
   "file_extension": ".jl",
   "mimetype": "application/julia",
   "name": "julia",
   "version": "0.5.0"
  }
 },
 "nbformat": 4,
 "nbformat_minor": 0
}
